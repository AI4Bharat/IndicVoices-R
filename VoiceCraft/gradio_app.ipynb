{
 "cells": [
  {
   "cell_type": "markdown",
   "id": "9b6a0c92",
   "metadata": {},
   "source": [
    "### Only do the below if you are using docker"
   ]
  },
  {
   "cell_type": "code",
   "execution_count": null,
   "id": "961faa43",
   "metadata": {},
   "outputs": [],
   "source": [
    "!source ~/.bashrc && \\\n",
    "    apt-get update && \\\n",
    "    apt-get install -y espeak espeak-data libespeak1 libespeak-dev && \\\n",
    "    apt-get install -y festival* && \\\n",
    "    apt-get install -y build-essential && \\\n",
    "    apt-get install -y flac libasound2-dev libsndfile1-dev vorbis-tools && \\\n",
    "    apt-get install -y libxml2-dev libxslt-dev zlib1g-dev"
   ]
  },
  {
   "cell_type": "code",
   "execution_count": null,
   "id": "598d75cf",
   "metadata": {},
   "outputs": [],
   "source": [
    "!source ~/.bashrc && \\\n",
    "    conda activate voicecraft && \\\n",
    "    pip install -r gradio_requirements.txt"
   ]
  },
  {
   "cell_type": "markdown",
   "id": "8b9c4436",
   "metadata": {},
   "source": [
    "# STOP\n",
    "You have to do this part manually using the mouse/keyboard and the tabs at the top.\n",
    "\n",
    "* Refresh your browser to make sure it picks up the new kernel.\n",
    "* Kernel -> Change Kernel -> Select Kernel -> voicecraft\n",
    "* Kernel -> Restart Kernel -> Yes\n",
    "\n",
    "Now you can run the rest of the notebook and get an audio sample output. It will automatically download more models and such. The next time you use this container, you can just start below here as the dependencies will remain available until you delete the docker container."
   ]
  },
  {
   "cell_type": "code",
   "execution_count": null,
   "id": "f089aa96",
   "metadata": {},
   "outputs": [],
   "source": [
    "from gradio_app import app\n",
    "app.launch()"
   ]
  }
 ],
 "metadata": {
  "kernelspec": {
   "display_name": "voicecraft",
   "language": "python",
   "name": "voicecraft"
  },
  "language_info": {
   "codemirror_mode": {
    "name": "ipython",
    "version": 3
   },
   "file_extension": ".py",
   "mimetype": "text/x-python",
   "name": "python",
   "nbconvert_exporter": "python",
   "pygments_lexer": "ipython3",
   "version": "3.9.19"
  }
 },
 "nbformat": 4,
 "nbformat_minor": 5
}
